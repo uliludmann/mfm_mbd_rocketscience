{
 "cells": [
  {
   "cell_type": "markdown",
   "metadata": {},
   "source": [
    "# Multibody dynamics"
   ]
  },
  {
   "cell_type": "code",
   "execution_count": 1,
   "metadata": {
    "collapsed": false
   },
   "outputs": [],
   "source": [
    "from sympy.abc import G, x, y, z, M, theta\n",
    "from sympy.physics.vector import ReferenceFrame\n",
    "\n",
    "# Constants\n",
    "\n",
    "G # Gravity m/s^2\n",
    "M #Rocket Mass\n",
    "\n",
    "\n",
    "A = ReferenceFrame('A') #startposition\n",
    "\n",
    "position = x * A.x + y * A.y + z * A.z"
   ]
  },
  {
   "cell_type": "code",
   "execution_count": 50,
   "metadata": {
    "collapsed": true
   },
   "outputs": [],
   "source": [
    "# degrees to radians\n",
    "from sympy import pi\n",
    "dtr = pi/180"
   ]
  },
  {
   "cell_type": "code",
   "execution_count": 2,
   "metadata": {
    "collapsed": false
   },
   "outputs": [],
   "source": [
    "Gravity = -G * A.y\n",
    "Gravityforce = - G * M * A.y"
   ]
  },
  {
   "cell_type": "code",
   "execution_count": 3,
   "metadata": {
    "collapsed": false
   },
   "outputs": [],
   "source": [
    "from sympy import symbols\n",
    "q0, q1, q2, q3, q4 = symbols('q0, q1, q2, q3, q4')\n",
    "b = ReferenceFrame('b')\n",
    "# Rakete Kippt um theta Grad nach Rechts\n",
    "b.orient(A, 'Body', [q0, q1, q2], 'XYZ')"
   ]
  },
  {
   "cell_type": "code",
   "execution_count": 4,
   "metadata": {
    "collapsed": false
   },
   "outputs": [
    {
     "data": {
      "text/plain": [
       "Matrix([\n",
       "[ cos(q1)*cos(q2),  sin(q0)*sin(q1)*cos(q2) + sin(q2)*cos(q0), sin(q0)*sin(q2) - sin(q1)*cos(q0)*cos(q2)],\n",
       "[-sin(q2)*cos(q1), -sin(q0)*sin(q1)*sin(q2) + cos(q0)*cos(q2), sin(q0)*cos(q2) + sin(q1)*sin(q2)*cos(q0)],\n",
       "[         sin(q1),                           -sin(q0)*cos(q1),                           cos(q0)*cos(q1)]])"
      ]
     },
     "execution_count": 4,
     "metadata": {},
     "output_type": "execute_result"
    }
   ],
   "source": [
    "b.dcm(A)"
   ]
  },
  {
   "cell_type": "code",
   "execution_count": 5,
   "metadata": {
    "collapsed": true
   },
   "outputs": [],
   "source": [
    "def xyz_rotation(rot_frame, base_frame, rotation):\n",
    "    \"\"\"arguments: rot_frame: der Referenz Frame der rotiert werden soll. \n",
    "    base_frame: Um welchen frame soll rotiert werden\n",
    "    rotation: vector, grad: um wieviel grad soll in welche position gedreht werden? [x, y, z]\"\"\"\n",
    "    return rot_frame.orient(base_frame, 'Body', rotation, 'XYZ')"
   ]
  },
  {
   "cell_type": "code",
   "execution_count": 6,
   "metadata": {
    "collapsed": false
   },
   "outputs": [],
   "source": [
    "from mpmath import degrees, radians\n",
    "xyz_rotation(b, A, [0, 0, 0])"
   ]
  },
  {
   "cell_type": "code",
   "execution_count": 7,
   "metadata": {
    "collapsed": false
   },
   "outputs": [
    {
     "data": {
      "text/plain": [
       "Matrix([\n",
       "[1, 0, 0],\n",
       "[0, 1, 0],\n",
       "[0, 0, 1]])"
      ]
     },
     "execution_count": 7,
     "metadata": {},
     "output_type": "execute_result"
    }
   ],
   "source": [
    "b.dcm(A)"
   ]
  },
  {
   "cell_type": "code",
   "execution_count": 8,
   "metadata": {
    "collapsed": false
   },
   "outputs": [
    {
     "data": {
      "text/plain": [
       "Matrix([\n",
       "[x],\n",
       "[y],\n",
       "[z]])"
      ]
     },
     "execution_count": 8,
     "metadata": {},
     "output_type": "execute_result"
    }
   ],
   "source": [
    "position.to_matrix(A)"
   ]
  },
  {
   "cell_type": "code",
   "execution_count": 9,
   "metadata": {
    "collapsed": true
   },
   "outputs": [],
   "source": [
    "# Rocket flight\n",
    "from sympy import sin, cos, acos\n",
    "Fr = symbols('Fr') # rocket force\n",
    "# Rocket step\n",
    "def rocket_step(Rocketforce, angle, last_position):\n",
    "    \"\"\"arguments: acceleration, angle of Thruster (vector) degrees, last Position as Reference Frame\n",
    "    returns next position as displacement vector from last_position\"\"\"\n",
    "    angle = an\n",
    "    next_position = Rocketforce * sin(angle) * last_position.y + Rocketforce * cos(angle) * last_position.x - Gravityforce * y\n",
    "    return next_position"
   ]
  },
  {
   "cell_type": "code",
   "execution_count": 38,
   "metadata": {
    "collapsed": false
   },
   "outputs": [],
   "source": [
    "init_frame = ReferenceFrame('IF')\n",
    "test = rocket_step(Fr, -90, init_frame)"
   ]
  },
  {
   "cell_type": "code",
   "execution_count": 39,
   "metadata": {
    "collapsed": false
   },
   "outputs": [
    {
     "data": {
      "text/plain": [
       "Fr*cos(90)*IF.x - Fr*sin(90)*IF.y + G*M*y*A.y"
      ]
     },
     "execution_count": 39,
     "metadata": {},
     "output_type": "execute_result"
    }
   ],
   "source": [
    "test"
   ]
  },
  {
   "cell_type": "code",
   "execution_count": 40,
   "metadata": {
    "collapsed": false
   },
   "outputs": [
    {
     "data": {
      "text/plain": [
       "9.81*cos(90)*IF.x - 9.81*sin(90)*IF.y + 9.81*y*A.y"
      ]
     },
     "execution_count": 40,
     "metadata": {},
     "output_type": "execute_result"
    }
   ],
   "source": [
    "test.subs({Fr: 9.81, G: 9.81, M: 1})"
   ]
  },
  {
   "cell_type": "code",
   "execution_count": 41,
   "metadata": {
    "collapsed": false
   },
   "outputs": [
    {
     "data": {
      "text/plain": [
       "IF.x"
      ]
     },
     "execution_count": 41,
     "metadata": {},
     "output_type": "execute_result"
    }
   ],
   "source": [
    "init_frame.x"
   ]
  },
  {
   "cell_type": "code",
   "execution_count": 47,
   "metadata": {
    "collapsed": false
   },
   "outputs": [],
   "source": []
  },
  {
   "cell_type": "code",
   "execution_count": 48,
   "metadata": {
    "collapsed": false
   },
   "outputs": [
    {
     "data": {
      "text/plain": [
       "0"
      ]
     },
     "execution_count": 48,
     "metadata": {},
     "output_type": "execute_result"
    }
   ],
   "source": [
    "cos(90*dtr).evalf()"
   ]
  },
  {
   "cell_type": "code",
   "execution_count": null,
   "metadata": {
    "collapsed": true
   },
   "outputs": [],
   "source": []
  }
 ],
 "metadata": {
  "kernelspec": {
   "display_name": "Python 3",
   "language": "python",
   "name": "python3"
  },
  "language_info": {
   "codemirror_mode": {
    "name": "ipython",
    "version": 3
   },
   "file_extension": ".py",
   "mimetype": "text/x-python",
   "name": "python",
   "nbconvert_exporter": "python",
   "pygments_lexer": "ipython3",
   "version": "3.5.3"
  }
 },
 "nbformat": 4,
 "nbformat_minor": 0
}
